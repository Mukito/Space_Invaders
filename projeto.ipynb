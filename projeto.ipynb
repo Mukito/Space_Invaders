{
 "cells": [
  {
   "cell_type": "markdown",
   "metadata": {},
   "source": [
    "# SPACE INVADERS 🛸"
   ]
  },
  {
   "cell_type": "markdown",
   "metadata": {},
   "source": [
    "É um jogo de videogame de arcade desenhado por Tomohiro Nishikado e lançado em 1978. \n",
    "Foi originalmente construído pela Taito Corporation e um tempo depois foi licenciado para produção nos Estados Unidos pela Midway Games. \n",
    "Space Invaders foi um dos primeiros jogos de tiro com gráfico bidimensional. \n",
    "\n",
    "O objetivo é destruir ondas de naves com uma espaçonave humana para ganhar o maior número de pontos possível. \n",
    "Para construir o jogo, Nishikado se inspirou na mídia popular, como A Guerra dos Mundos e Star Wars.\n",
    "\n",
    "Apesar de seus controles simples comparados com os jogos de hoje, este jogo ajudou a expandir a indústria de video game para uma indústria mundial. \n",
    "Quando o jogo foi primeiramente lançado, ele fez muito sucesso virando popular."
   ]
  },
  {
   "cell_type": "markdown",
   "metadata": {},
   "source": [
    "## Jogabilidade"
   ]
  },
  {
   "cell_type": "markdown",
   "metadata": {},
   "source": [
    "Em Space Invaders o jogador controla os movimentos da arma \"Laser Base\", um canhão laser que se movimento na parte inferior da tela. \n",
    "Da parte superior marcham em direção ao canhão aliens organizados em linhas. \n",
    "\n",
    "O objetivo do jogador é evitar que os aliens atinjam a parte inferior da tela, para essa tarefa o canhão possui munição infinita para atirar. \n",
    "Ao acertar e destruir um número grande aliens os restantes começam a marchar mais rapidamente em direção ao jogador. \n",
    "Quando o jogador elimina todos os aliens uma nova formação é montada agora iniciando uma linha abaixo da formação anterior. \n",
    "Ocasionalmente uma nave surge voando na parte superior da tela e dá ao jogador pontos extras quando atingida.\n",
    "\n",
    "Segundo Toshihiro Nishikado, designer do jogo, os aliens são inspirados na descrição dos invasores do romance A Guerra dos Mundos, do escritor Herbert George Wells. \n",
    "\"Na história, os aliens se parecem com polvos. Eu desenhei o primeiro bitmap baseado nessa ideia, depois criei outros aliens parecidos com criaturas marinhas, como lulas e caranguejos.\" \n",
    "disse Nishikado. \n",
    "\n",
    "O designer também contou que a ideia inicial eram fazer os inimigos como aviões mas isso não foi possível devido as dificuldades técnicas da época. \n",
    "Nishikado também se mostrou contrário a ideia de colocar seres humanos como inimigos por considerar moralmente incorreto fazer os jogadores atirarem em imagens humanas.\n",
    "\n",
    "Nas primeiras versões do arcade em 1978, o jogo se passava em uma tela em \"reverso\" na parte inferior do gabinete e refletido na forma correta em espelhos dentro do arcade, onde também se encontravam desenhos ao fundo. Com a ajuda da iluminação interna, todo este conjunto dava um efeito tridimensional ao jogo. Tinha-se a ilusão de os gráficos estarem flutuando. Estes efeitos não mais foram observados nas versões futuras deste jogo e outros games."
   ]
  },
  {
   "cell_type": "markdown",
   "metadata": {},
   "source": [
    "#### ===================================================================================================================="
   ]
  },
  {
   "cell_type": "markdown",
   "metadata": {},
   "source": [
    "## Tela"
   ]
  },
  {
   "cell_type": "markdown",
   "metadata": {},
   "source": [
    "Largura de 600\n",
    "Altura de 800\n",
    "\n",
    "\n",
    "\n"
   ]
  },
  {
   "cell_type": "code",
   "execution_count": null,
   "metadata": {},
   "outputs": [],
   "source": [
    "def exists(n: int, numbers: list[int]) -> bool:\n",
    "    # Verifica se o número n está na lista\n",
    "    for i in range(len(numbers)):\n",
    "        if numbers[i] == n:\n",
    "            return True\n",
    "    return False\n",
    "\n",
    "# Testes\n",
    "print(exists(5, [1, 2, 3, 4, 5]) == True)  # Deve retornar True\n",
    "print(exists(6, [1, 2, 3, 4, 5]) == False) # Deve retornar False\n",
    "print(exists(3, [1, 2, 3, 4, 5]) == True)  # Deve retornar True\n",
    "print(exists(5, []) == False)                # Deve retornar False\n"
   ]
  },
  {
   "cell_type": "code",
   "execution_count": null,
   "metadata": {},
   "outputs": [],
   "source": [
    "import pygame\n",
    "import sys\n",
    "\n",
    "def triangle(surface, color, vertices):\n",
    "    # Desenha um triângulo na superfície fornecida\n",
    "    pygame.draw.polygon(surface, color, vertices)\n",
    "\n",
    "def main():\n",
    "    pygame.init()\n",
    "    largura, altura = 600, 400\n",
    "    tela = pygame.display.set_mode((largura, altura))\n",
    "    pygame.display.set_caption('Desenhar Triângulo')\n",
    "\n",
    "    cor_fundo = (0, 0, 0)  # Preto\n",
    "    cor_triangulo = (255, 0, 0)  # Vermelho\n",
    "    vertices = [(300, 100), (200, 300), (400, 300)]  # Vértices do triângulo\n",
    "\n",
    "    while True:\n",
    "        for evento in pygame.event.get():\n",
    "            if evento.type == pygame.QUIT:\n",
    "                pygame.quit()\n",
    "                sys.exit()\n",
    "\n",
    "        tela.fill(cor_fundo)  # Limpa a tela com a cor de fundo\n",
    "        triangle(tela, cor_triangulo, vertices)  # Desenha o triângulo\n",
    "        pygame.display.flip()  # Atualiza a tela\n",
    "\n",
    "if __name__ == '__main__':\n",
    "    main()\n"
   ]
  },
  {
   "cell_type": "code",
   "execution_count": null,
   "metadata": {},
   "outputs": [],
   "source": []
  }
 ],
 "metadata": {
  "kernelspec": {
   "display_name": "venv",
   "language": "python",
   "name": "python3"
  },
  "language_info": {
   "name": "python",
   "version": "3.12.4"
  }
 },
 "nbformat": 4,
 "nbformat_minor": 2
}
